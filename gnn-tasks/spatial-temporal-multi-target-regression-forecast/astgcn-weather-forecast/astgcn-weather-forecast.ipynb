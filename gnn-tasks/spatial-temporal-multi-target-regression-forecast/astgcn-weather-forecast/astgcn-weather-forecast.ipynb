{
 "cells": [
  {
   "cell_type": "markdown",
   "metadata": {},
   "source": [
    "## GNN-ASTGCN training on NOAA weather data"
   ]
  },
  {
   "cell_type": "markdown",
   "metadata": {},
   "source": [
    "### Imports"
   ]
  },
  {
   "cell_type": "code",
   "execution_count": 1,
   "metadata": {},
   "outputs": [],
   "source": [
    "import pandas as pd\n",
    "import numpy as np\n",
    "import torch\n",
    "torch.cuda.empty_cache()\n",
    "import torch.nn as nn\n",
    "import torch.optim as optim\n",
    "import torch.nn.functional as F\n",
    "from torch_geometric_temporal.signal import StaticGraphTemporalSignal\n",
    "from torch_geometric_temporal.nn.attention import ASTGCN\n",
    "from sklearn.preprocessing import StandardScaler\n",
    "from tqdm import tqdm\n",
    "from math import radians, sin, cos, atan2, sqrt\n",
    "import matplotlib.pyplot as plt\n",
    "from sklearn.metrics import root_mean_squared_error, mean_absolute_error, r2_score\n",
    "import torch.backends.cudnn as cudnn\n",
    "cudnn.benchmark = True\n",
    "device = torch.device(\"cuda\" if torch.cuda.is_available() else \"cpu\")"
   ]
  },
  {
   "cell_type": "markdown",
   "metadata": {},
   "source": [
    "### Load Data"
   ]
  },
  {
   "cell_type": "code",
   "execution_count": 2,
   "metadata": {},
   "outputs": [],
   "source": [
    "df_nodes = pd.read_csv(\"df_nodes.csv\")  \n",
    "df_events = pd.read_csv(\"df_events.csv\", parse_dates=['DATE']) \n",
    "\n",
    "# Station IDs in a consistent order\n",
    "unique_ids = df_nodes['ID'].unique().tolist()\n",
    "num_nodes = len(unique_ids)\n",
    "id_to_idx = {sid: i for i, sid in enumerate(unique_ids)}\n",
    "\n",
    "df_events['node_idx'] = df_events['ID'].map(id_to_idx)\n",
    "df_events.sort_values(['node_idx','DATE'], inplace=True)"
   ]
  },
  {
   "cell_type": "markdown",
   "metadata": {},
   "source": [
    "### Build adjacency gaussian kernel from distances"
   ]
  },
  {
   "cell_type": "code",
   "execution_count": 3,
   "metadata": {},
   "outputs": [],
   "source": [
    "def haversine_distance(lat1, lon1, lat2, lon2):\n",
    "    R = 6371.0  # Earth radius in km\n",
    "    d_lat = radians(lat2 - lat1)\n",
    "    d_lon = radians(lon2 - lon1)\n",
    "    a = (sin(d_lat/2)**2) + cos(radians(lat1)) * cos(radians(lat2)) * (sin(d_lon/2)**2)\n",
    "    c = 2 * atan2(sqrt(a), sqrt(1 - a))\n",
    "    return R * c\n",
    "\n",
    "def spatial_distance(row1, row2):\n",
    "    dist_2d = haversine_distance(row1['LATITUDE'], row1['LONGITUDE'],\n",
    "                                 row2['LATITUDE'], row2['LONGITUDE'])\n",
    "    elev_diff = abs(row1['ELEVATION'] - row2['ELEVATION']) / 1000.0\n",
    "    return dist_2d + elev_diff\n",
    "\n",
    "coords = df_nodes[['LATITUDE','LONGITUDE','ELEVATION']].values\n",
    "dist_matrix = np.zeros((num_nodes, num_nodes), dtype=np.float32)\n",
    "for i in range(num_nodes):\n",
    "    for j in range(num_nodes):\n",
    "        if i == j:\n",
    "            dist_matrix[i, j] = 0.0\n",
    "        else:\n",
    "            dist_matrix[i, j] = spatial_distance(df_nodes.iloc[i], df_nodes.iloc[j])\n",
    "\n",
    "sigma = np.std(dist_matrix)\n",
    "adj_matrix = np.exp(-np.square(dist_matrix) / (2 * sigma**2))\n",
    "\n",
    "# Convert adjacency to edge_index, edge_weight\n",
    "def adjacency_to_edge_index(adj):\n",
    "    edge_index = []\n",
    "    edge_weight = []\n",
    "    n = adj.shape[0]\n",
    "    for i in range(n):\n",
    "        for j in range(n):\n",
    "            val = adj[i, j]\n",
    "            if val > 0 and i != j:\n",
    "                edge_index.append([i, j])\n",
    "                edge_weight.append(val)\n",
    "    edge_index = torch.LongTensor(edge_index).t().contiguous()\n",
    "    edge_weight = torch.FloatTensor(edge_weight)\n",
    "    return edge_index, edge_weight\n",
    "\n",
    "edge_index, edge_weight = adjacency_to_edge_index(adj_matrix)"
   ]
  },
  {
   "cell_type": "markdown",
   "metadata": {},
   "source": [
    "### Create feature array + day-of-year for seasonality"
   ]
  },
  {
   "cell_type": "code",
   "execution_count": 4,
   "metadata": {},
   "outputs": [],
   "source": [
    "# features = ['PRCP','SNOW','SNWD','TMAX','TMIN']  # 5 weather features\n",
    "features = ['PRCP','TMAX','TMIN'] # simplify to 3, but show notes below for 5 features\n",
    "\n",
    "# Collect unique sorted dates\n",
    "all_dates = df_events['DATE'].sort_values().unique()\n",
    "all_dates = pd.to_datetime(all_dates)  # ensure DateTimeIndex\n",
    "all_dates_list = list(all_dates)\n",
    "date_to_idx = {dt: i for i, dt in enumerate(all_dates_list)}\n",
    "T = len(all_dates_list)\n",
    "\n",
    "num_feats = len(features)\n",
    "\n",
    "# We will add 1 additional feature => day_of_year_fraction\n",
    "# so final dimension: num_feats + 1 for day_of_year\n",
    "X_array = np.zeros((T, num_nodes, num_feats + 1), dtype=np.float32)  # +1 for day_of_year\n",
    "\n",
    "# Prepopulate the 5 weather features\n",
    "for row in df_events.itertuples():\n",
    "    t_index = date_to_idx[row.DATE]\n",
    "    n_index = row.node_idx\n",
    "    X_array[t_index, n_index, 0] = row.PRCP\n",
    "    X_array[t_index, n_index, 1] = row.TMAX\n",
    "    X_array[t_index, n_index, 2] = row.TMIN\n",
    "\n",
    "# Build day-of-year fraction\n",
    "# day_of_year in [1..365] (ignoring leap day or you can handle it as you like)\n",
    "for i, dt in enumerate(all_dates_list):\n",
    "    doy = dt.timetuple().tm_yday  # integer day-of-year\n",
    "    # Simple fraction in [1..365] => scale by 365\n",
    "    doy_fraction = doy / 365.0\n",
    "    # replicate across all stations\n",
    "    X_array[i, :, 3] = doy_fraction  # the new 6th feature\n",
    "\n",
    "# So now each snapshot has shape [num_nodes, 6 features]"
   ]
  },
  {
   "cell_type": "markdown",
   "metadata": {},
   "source": [
    "### Scale the sensor features, keep day_of_year separate"
   ]
  },
  {
   "cell_type": "code",
   "execution_count": 5,
   "metadata": {},
   "outputs": [],
   "source": [
    "# We'll scale only the weather features and keep day_of_year in [0..1].\n",
    "X_weather_flat = X_array[:, :, :3].reshape(-1, 3)  # shape [T*N, 5]\n",
    "scaler = StandardScaler()\n",
    "X_weather_scaled = scaler.fit_transform(X_weather_flat)\n",
    "X_weather_scaled = X_weather_scaled.reshape(T, num_nodes, 3)\n",
    "\n",
    "# Overwrite the weather columns in X_array\n",
    "X_array[:, :, :3] = X_weather_scaled"
   ]
  },
  {
   "cell_type": "markdown",
   "metadata": {},
   "source": [
    "### Build multi-step forecast dataset"
   ]
  },
  {
   "cell_type": "code",
   "execution_count": 6,
   "metadata": {},
   "outputs": [],
   "source": [
    "HORIZON = 2 # 7 days forecast\n",
    "WINDOW_IN = 6  # 14 input window\n",
    "X_list = []\n",
    "Y_list = []\n",
    "\n",
    "max_t = T - HORIZON  # we need at least 7 future days\n",
    "for t in range(max_t):\n",
    "    # X_list[t] => single snapshot [num_nodes, 6]\n",
    "    X_list.append(X_array[t])\n",
    "    \n",
    "    # Y_list[t] => next 7 days => shape [7, num_nodes, 6], but we only want to\n",
    "    # predict the 5 weather features. However, for consistent shape,\n",
    "    # let's keep all 6. Or you can skip day_of_year in the target if you prefer.\n",
    "    # We'll keep all 6 for illustration, but often you'd exclude the seasonal feature from the direct target.\n",
    "    fut_slice = X_array[t+1 : t+1 + HORIZON]  # => [7, num_nodes, 6]\n",
    "    # reorder to [num_nodes, 6, 7]\n",
    "    fut_slice = np.transpose(fut_slice, (1, 2, 0))\n",
    "    Y_list.append(fut_slice)\n",
    "\n",
    "dataset = StaticGraphTemporalSignal(\n",
    "    edge_index=edge_index,\n",
    "    edge_weight=edge_weight,\n",
    "    features=X_list,  # each [num_nodes, 6]\n",
    "    targets=Y_list    # each [num_nodes, 6, 7]\n",
    ")\n",
    "\n",
    "dataset_length = dataset.snapshot_count  # = T - HORIZON\n",
    "train_len = int(0.7 * dataset_length)\n",
    "val_len   = int(0.15 * dataset_length)\n",
    "test_len  = dataset_length - train_len - val_len\n",
    "\n",
    "train_indices = range(0, train_len)\n",
    "val_indices   = range(train_len, train_len + val_len)\n",
    "test_indices  = range(train_len + val_len, dataset_length)"
   ]
  },
  {
   "cell_type": "markdown",
   "metadata": {},
   "source": [
    "### Define an ASTGCN model"
   ]
  },
  {
   "cell_type": "code",
   "execution_count": 7,
   "metadata": {},
   "outputs": [],
   "source": [
    "class MyASTGCNWrapper(nn.Module):\n",
    "    \"\"\"\n",
    "    Wrap ASTGCN so that final output: [B, N, out_channels, horizon].\n",
    "    We'll set out_channels = 6 (same as in_channels) if we are\n",
    "    forecasting all features, including the day_of_year feature.\n",
    "    Typically, you'd want only the 5 weather features, but we'll keep 6 for a direct 1:1 mapping.\n",
    "    \"\"\"\n",
    "    def __init__(self, num_nodes, in_channels=6, out_channels=6, horizon=7, window_in=14):\n",
    "        super(MyASTGCNWrapper, self).__init__()\n",
    "        \n",
    "        self.astgcn = ASTGCN(\n",
    "            nb_block=2, #2\n",
    "            in_channels=in_channels,  \n",
    "            K=3, #3                    \n",
    "            nb_chev_filter=16, \n",
    "            nb_time_filter=16,\n",
    "            time_strides=1,\n",
    "            num_for_predict=horizon,   # 7\n",
    "            len_input=window_in,       # 14\n",
    "            num_of_vertices=num_nodes,\n",
    "            normalization='sym',\n",
    "            bias=True\n",
    "        )\n",
    "        self.num_nodes = num_nodes\n",
    "        self.in_channels = in_channels\n",
    "        self.out_channels = out_channels\n",
    "        self.horizon = horizon\n",
    "        \n",
    "        # ASTGCN => [B, N, horizon]\n",
    "        # We'll do a linear to map horizon -> out_channels*horizon\n",
    "        self.proj = nn.Linear(horizon, out_channels*horizon)\n",
    "\n",
    "    def forward(self, x, edge_index):\n",
    "        # x: [B, N, F, T_in=14]\n",
    "        out = self.astgcn(x, edge_index)  # => [B, N, horizon]\n",
    "        \n",
    "        B, N, H = out.shape  # horizon=H=7\n",
    "        out = self.proj(out) # => [B, N, out_channels*horizon]\n",
    "        out = out.view(B, N, self.out_channels, self.horizon)\n",
    "        # => [B, N, out_channels=6, horizon=7]\n",
    "        return out\n",
    "\n",
    "model_wrapper = MyASTGCNWrapper(num_nodes=num_nodes, in_channels=4, out_channels=4,\n",
    "    horizon=HORIZON, window_in=WINDOW_IN).to(device)"
   ]
  },
  {
   "cell_type": "markdown",
   "metadata": {},
   "source": [
    "### Training utilities"
   ]
  },
  {
   "cell_type": "code",
   "execution_count": 8,
   "metadata": {},
   "outputs": [],
   "source": [
    "criterion = nn.MSELoss()\n",
    "optimizer = optim.AdamW(model_wrapper.parameters(), lr=5e-5, weight_decay=1e-5)\n",
    "scheduler = optim.lr_scheduler.ReduceLROnPlateau(optimizer, patience=2, factor=0.5)\n",
    "\n",
    "# Track losses by iteration\n",
    "train_iteration_losses = []\n",
    "val_iteration_losses = []\n",
    "\n",
    "def train_one_epoch_old(model, optimizer, criterion, train_indices, window_in=14):\n",
    "    model.train()\n",
    "    total_loss = 0\n",
    "    count = 0\n",
    "    \n",
    "    with tqdm(train_indices, desc=\"Training\", unit=\"step\") as pbar:\n",
    "        for t in pbar:\n",
    "            if t < window_in:\n",
    "                continue\n",
    "            \n",
    "            # Build input window\n",
    "            x_stack = []\n",
    "            for past_t in range(t - window_in, t):\n",
    "                x_in = dataset[past_t].x  # shape [N, 6]\n",
    "                if isinstance(x_in, torch.Tensor):\n",
    "                    x_in = x_in.cpu().numpy()\n",
    "                x_stack.append(x_in)\n",
    "            x_stack = np.stack(x_stack, axis=-1)  # => [N, 6, 14]\n",
    "            \n",
    "            x_torch = torch.from_numpy(x_stack).float().to(device)\n",
    "            x_torch = x_torch.unsqueeze(0)  # => [1, N, 6, 14]\n",
    "            \n",
    "            data = dataset[t]\n",
    "            y_true = data.y  # => [N, 6, 7]\n",
    "            if isinstance(y_true, torch.Tensor):\n",
    "                y_true = y_true.cpu().numpy()\n",
    "            y_true = torch.from_numpy(y_true).float().to(device)\n",
    "            y_true = y_true.unsqueeze(0)  # => [1, N, 6, 7]\n",
    "            \n",
    "            e_idx = data.edge_index.to(device)\n",
    "            \n",
    "            optimizer.zero_grad()\n",
    "            y_pred = model(x_torch, e_idx)  # => [1, N, 6, 7]\n",
    "            loss = criterion(y_pred, y_true)\n",
    "            loss.backward()\n",
    "            optimizer.step()\n",
    "            \n",
    "            total_loss += loss.item()\n",
    "            count += 1\n",
    "            pbar.set_postfix({\"Loss\": f\"{loss.item():.4f}\"})\n",
    "    \n",
    "    return total_loss / max(count, 1)\n",
    "\n",
    "gscaler = torch.amp.GradScaler()\n",
    "dtype = 'bfloat16' if torch.cuda.is_available() and torch.cuda.is_bf16_supported() else 'float16'\n",
    "ptdtype = {'float32': torch.float32, 'bfloat16': torch.bfloat16, 'float16': torch.float16}[dtype]\n",
    "\n",
    "def train_one_epoch(model, optimizer, criterion, train_indices, window_in=14):\n",
    "    model.train()\n",
    "    total_loss = 0\n",
    "    count = 0\n",
    "    \n",
    "    with tqdm(train_indices, desc=\"Training\", unit=\"step\") as pbar:\n",
    "        for t in pbar:\n",
    "            if t < window_in:\n",
    "                continue\n",
    "            \n",
    "            # Build input window\n",
    "            x_stack = []\n",
    "            for past_t in range(t - window_in, t):\n",
    "                x_in = dataset[past_t].x\n",
    "                if isinstance(x_in, torch.Tensor):\n",
    "                    x_in = x_in.cpu().numpy()\n",
    "                x_stack.append(x_in)\n",
    "            x_stack = np.stack(x_stack, axis=-1)  # => [N, F, 14]\n",
    "\n",
    "            x_torch = torch.from_numpy(x_stack).float().to(device).unsqueeze(0)  # => [1, N, F, 14]\n",
    "\n",
    "            data = dataset[t]\n",
    "            y_true = data.y\n",
    "            if isinstance(y_true, torch.Tensor):\n",
    "                y_true = y_true.cpu().numpy()\n",
    "            y_true = torch.from_numpy(y_true).float().to(device).unsqueeze(0)  # => [1, N, F, 7]\n",
    "\n",
    "            e_idx = data.edge_index.to(device)\n",
    "\n",
    "            optimizer.zero_grad()\n",
    "\n",
    "            # ----- AMP Block -----\n",
    "            with torch.amp.autocast(device_type='cuda', dtype=ptdtype):\n",
    "                y_pred = model(x_torch, e_idx)\n",
    "                loss = criterion(y_pred, y_true)\n",
    "\n",
    "            # Instead of loss.backward(), we do:\n",
    "            gscaler.scale(loss).backward()\n",
    "\n",
    "            # Instead of optimizer.step(), we do:\n",
    "            gscaler.step(optimizer)\n",
    "            gscaler.update()\n",
    "\n",
    "            total_loss += loss.item()\n",
    "            train_iteration_losses.append(loss.item())\n",
    "            count += 1\n",
    "            pbar.set_postfix({\"Loss\": f\"{loss.item():.4f}\"})\n",
    "    \n",
    "    return total_loss / max(count, 1)\n",
    "\n",
    "@torch.no_grad()\n",
    "def evaluate(model, criterion, val_indices, window_in=14):\n",
    "    model.eval()\n",
    "    total_loss = 0\n",
    "    count = 0\n",
    "    \n",
    "    with tqdm(val_indices, desc=\"Validation\", unit=\"step\") as pbar:\n",
    "        for t in pbar:\n",
    "            if t < window_in:\n",
    "                continue\n",
    "            \n",
    "            x_stack = []\n",
    "            for past_t in range(t - window_in, t):\n",
    "                x_in = dataset[past_t].x\n",
    "                if isinstance(x_in, torch.Tensor):\n",
    "                    x_in = x_in.cpu().numpy()\n",
    "                x_stack.append(x_in)\n",
    "            x_stack = np.stack(x_stack, axis=-1)\n",
    "            \n",
    "            x_torch = torch.from_numpy(x_stack).float().to(device).unsqueeze(0)\n",
    "            \n",
    "            data = dataset[t]\n",
    "            y_true = data.y\n",
    "            if isinstance(y_true, torch.Tensor):\n",
    "                y_true = y_true.cpu().numpy()\n",
    "            y_true = torch.from_numpy(y_true).float().to(device).unsqueeze(0)\n",
    "            \n",
    "            e_idx = data.edge_index.to(device)\n",
    "            \n",
    "            y_pred = model(x_torch, e_idx)\n",
    "            loss = criterion(y_pred, y_true)\n",
    "            total_loss += loss.item()\n",
    "            val_iteration_losses.append(loss.item())\n",
    "            count += 1\n",
    "            pbar.set_postfix({\"Loss\": f\"{loss.item():.4f}\"})\n",
    "    \n",
    "    return total_loss / max(count, 1)"
   ]
  },
  {
   "cell_type": "markdown",
   "metadata": {},
   "source": [
    "### Training Loop"
   ]
  },
  {
   "cell_type": "code",
   "execution_count": 9,
   "metadata": {},
   "outputs": [
    {
     "name": "stdout",
     "output_type": "stream",
     "text": [
      "Epoch 1/20\n"
     ]
    },
    {
     "name": "stderr",
     "output_type": "stream",
     "text": [
      "Training: 100%|██████████| 1292/1292 [02:01<00:00, 10.59step/s, Loss=1.5445]\n"
     ]
    },
    {
     "name": "stdout",
     "output_type": "stream",
     "text": [
      "Train Loss: 0.8587\n"
     ]
    },
    {
     "name": "stderr",
     "output_type": "stream",
     "text": [
      "Validation: 100%|██████████| 276/276 [00:11<00:00, 25.06step/s, Loss=0.5932]\n"
     ]
    },
    {
     "name": "stdout",
     "output_type": "stream",
     "text": [
      "Val   Loss: 0.7456\n",
      "==================================================\n",
      "Epoch 2/20\n"
     ]
    },
    {
     "name": "stderr",
     "output_type": "stream",
     "text": [
      "Training: 100%|██████████| 1292/1292 [01:58<00:00, 10.92step/s, Loss=1.2227]\n"
     ]
    },
    {
     "name": "stdout",
     "output_type": "stream",
     "text": [
      "Train Loss: 0.7488\n"
     ]
    },
    {
     "name": "stderr",
     "output_type": "stream",
     "text": [
      "Validation: 100%|██████████| 276/276 [00:10<00:00, 25.35step/s, Loss=0.5002]\n"
     ]
    },
    {
     "name": "stdout",
     "output_type": "stream",
     "text": [
      "Val   Loss: 0.6551\n",
      "==================================================\n",
      "Epoch 3/20\n"
     ]
    },
    {
     "name": "stderr",
     "output_type": "stream",
     "text": [
      "Training: 100%|██████████| 1292/1292 [01:59<00:00, 10.79step/s, Loss=0.9872]\n"
     ]
    },
    {
     "name": "stdout",
     "output_type": "stream",
     "text": [
      "Train Loss: 0.6436\n"
     ]
    },
    {
     "name": "stderr",
     "output_type": "stream",
     "text": [
      "Validation: 100%|██████████| 276/276 [00:10<00:00, 27.27step/s, Loss=0.4274]\n"
     ]
    },
    {
     "name": "stdout",
     "output_type": "stream",
     "text": [
      "Val   Loss: 0.5848\n",
      "==================================================\n",
      "Epoch 4/20\n"
     ]
    },
    {
     "name": "stderr",
     "output_type": "stream",
     "text": [
      "Training: 100%|██████████| 1292/1292 [01:57<00:00, 11.00step/s, Loss=0.8275]\n"
     ]
    },
    {
     "name": "stdout",
     "output_type": "stream",
     "text": [
      "Train Loss: 0.5636\n"
     ]
    },
    {
     "name": "stderr",
     "output_type": "stream",
     "text": [
      "Validation: 100%|██████████| 276/276 [00:10<00:00, 25.18step/s, Loss=0.3806]\n"
     ]
    },
    {
     "name": "stdout",
     "output_type": "stream",
     "text": [
      "Val   Loss: 0.5318\n",
      "==================================================\n",
      "Epoch 5/20\n"
     ]
    },
    {
     "name": "stderr",
     "output_type": "stream",
     "text": [
      "Training: 100%|██████████| 1292/1292 [02:00<00:00, 10.73step/s, Loss=0.7146]\n"
     ]
    },
    {
     "name": "stdout",
     "output_type": "stream",
     "text": [
      "Train Loss: 0.5027\n"
     ]
    },
    {
     "name": "stderr",
     "output_type": "stream",
     "text": [
      "Validation: 100%|██████████| 276/276 [00:10<00:00, 26.45step/s, Loss=0.3486]\n"
     ]
    },
    {
     "name": "stdout",
     "output_type": "stream",
     "text": [
      "Val   Loss: 0.4916\n",
      "==================================================\n",
      "Epoch 6/20\n"
     ]
    },
    {
     "name": "stderr",
     "output_type": "stream",
     "text": [
      "Training: 100%|██████████| 1292/1292 [01:59<00:00, 10.84step/s, Loss=0.6411]\n"
     ]
    },
    {
     "name": "stdout",
     "output_type": "stream",
     "text": [
      "Train Loss: 0.4559\n"
     ]
    },
    {
     "name": "stderr",
     "output_type": "stream",
     "text": [
      "Validation: 100%|██████████| 276/276 [00:11<00:00, 24.81step/s, Loss=0.3304]\n"
     ]
    },
    {
     "name": "stdout",
     "output_type": "stream",
     "text": [
      "Val   Loss: 0.4606\n",
      "==================================================\n",
      "Epoch 7/20\n"
     ]
    },
    {
     "name": "stderr",
     "output_type": "stream",
     "text": [
      "Training: 100%|██████████| 1292/1292 [01:57<00:00, 11.00step/s, Loss=0.6080]\n"
     ]
    },
    {
     "name": "stdout",
     "output_type": "stream",
     "text": [
      "Train Loss: 0.4242\n"
     ]
    },
    {
     "name": "stderr",
     "output_type": "stream",
     "text": [
      "Validation: 100%|██████████| 276/276 [00:10<00:00, 25.94step/s, Loss=0.3232]\n"
     ]
    },
    {
     "name": "stdout",
     "output_type": "stream",
     "text": [
      "Val   Loss: 0.4410\n",
      "==================================================\n",
      "Epoch 8/20\n"
     ]
    },
    {
     "name": "stderr",
     "output_type": "stream",
     "text": [
      "Training: 100%|██████████| 1292/1292 [01:58<00:00, 10.92step/s, Loss=0.6009]\n"
     ]
    },
    {
     "name": "stdout",
     "output_type": "stream",
     "text": [
      "Train Loss: 0.4063\n"
     ]
    },
    {
     "name": "stderr",
     "output_type": "stream",
     "text": [
      "Validation: 100%|██████████| 276/276 [00:12<00:00, 22.54step/s, Loss=0.3222]\n"
     ]
    },
    {
     "name": "stdout",
     "output_type": "stream",
     "text": [
      "Val   Loss: 0.4308\n",
      "==================================================\n",
      "Epoch 9/20\n"
     ]
    },
    {
     "name": "stderr",
     "output_type": "stream",
     "text": [
      "Training: 100%|██████████| 1292/1292 [01:54<00:00, 11.25step/s, Loss=0.6000]\n"
     ]
    },
    {
     "name": "stdout",
     "output_type": "stream",
     "text": [
      "Train Loss: 0.3972\n"
     ]
    },
    {
     "name": "stderr",
     "output_type": "stream",
     "text": [
      "Validation: 100%|██████████| 276/276 [00:11<00:00, 23.25step/s, Loss=0.3224]\n"
     ]
    },
    {
     "name": "stdout",
     "output_type": "stream",
     "text": [
      "Val   Loss: 0.4254\n",
      "==================================================\n",
      "Epoch 10/20\n"
     ]
    },
    {
     "name": "stderr",
     "output_type": "stream",
     "text": [
      "Training: 100%|██████████| 1292/1292 [02:01<00:00, 10.68step/s, Loss=0.5999]\n"
     ]
    },
    {
     "name": "stdout",
     "output_type": "stream",
     "text": [
      "Train Loss: 0.3918\n"
     ]
    },
    {
     "name": "stderr",
     "output_type": "stream",
     "text": [
      "Validation: 100%|██████████| 276/276 [00:12<00:00, 22.25step/s, Loss=0.3226]\n"
     ]
    },
    {
     "name": "stdout",
     "output_type": "stream",
     "text": [
      "Val   Loss: 0.4216\n",
      "==================================================\n",
      "Epoch 11/20\n"
     ]
    },
    {
     "name": "stderr",
     "output_type": "stream",
     "text": [
      "Training: 100%|██████████| 1292/1292 [01:53<00:00, 11.34step/s, Loss=0.5989]\n"
     ]
    },
    {
     "name": "stdout",
     "output_type": "stream",
     "text": [
      "Train Loss: 0.3882\n"
     ]
    },
    {
     "name": "stderr",
     "output_type": "stream",
     "text": [
      "Validation: 100%|██████████| 276/276 [00:11<00:00, 23.95step/s, Loss=0.3221]\n"
     ]
    },
    {
     "name": "stdout",
     "output_type": "stream",
     "text": [
      "Val   Loss: 0.4189\n",
      "==================================================\n",
      "Epoch 12/20\n"
     ]
    },
    {
     "name": "stderr",
     "output_type": "stream",
     "text": [
      "Training: 100%|██████████| 1292/1292 [01:58<00:00, 10.89step/s, Loss=0.5972]\n"
     ]
    },
    {
     "name": "stdout",
     "output_type": "stream",
     "text": [
      "Train Loss: 0.3854\n"
     ]
    },
    {
     "name": "stderr",
     "output_type": "stream",
     "text": [
      "Validation: 100%|██████████| 276/276 [00:10<00:00, 25.25step/s, Loss=0.3222]\n"
     ]
    },
    {
     "name": "stdout",
     "output_type": "stream",
     "text": [
      "Val   Loss: 0.4171\n",
      "==================================================\n",
      "Epoch 13/20\n"
     ]
    },
    {
     "name": "stderr",
     "output_type": "stream",
     "text": [
      "Training: 100%|██████████| 1292/1292 [01:54<00:00, 11.33step/s, Loss=0.5956]\n"
     ]
    },
    {
     "name": "stdout",
     "output_type": "stream",
     "text": [
      "Train Loss: 0.3832\n"
     ]
    },
    {
     "name": "stderr",
     "output_type": "stream",
     "text": [
      "Validation: 100%|██████████| 276/276 [00:11<00:00, 23.47step/s, Loss=0.3220]\n"
     ]
    },
    {
     "name": "stdout",
     "output_type": "stream",
     "text": [
      "Val   Loss: 0.4153\n",
      "==================================================\n",
      "Epoch 14/20\n"
     ]
    },
    {
     "name": "stderr",
     "output_type": "stream",
     "text": [
      "Training: 100%|██████████| 1292/1292 [01:59<00:00, 10.84step/s, Loss=0.5941]\n"
     ]
    },
    {
     "name": "stdout",
     "output_type": "stream",
     "text": [
      "Train Loss: 0.3815\n"
     ]
    },
    {
     "name": "stderr",
     "output_type": "stream",
     "text": [
      "Validation: 100%|██████████| 276/276 [00:11<00:00, 25.02step/s, Loss=0.3220]\n"
     ]
    },
    {
     "name": "stdout",
     "output_type": "stream",
     "text": [
      "Val   Loss: 0.4139\n",
      "==================================================\n",
      "Epoch 15/20\n"
     ]
    },
    {
     "name": "stderr",
     "output_type": "stream",
     "text": [
      "Training: 100%|██████████| 1292/1292 [01:55<00:00, 11.18step/s, Loss=0.5933]\n"
     ]
    },
    {
     "name": "stdout",
     "output_type": "stream",
     "text": [
      "Train Loss: 0.3802\n"
     ]
    },
    {
     "name": "stderr",
     "output_type": "stream",
     "text": [
      "Validation: 100%|██████████| 276/276 [00:11<00:00, 25.07step/s, Loss=0.3215]\n"
     ]
    },
    {
     "name": "stdout",
     "output_type": "stream",
     "text": [
      "Val   Loss: 0.4130\n",
      "==================================================\n",
      "Epoch 16/20\n"
     ]
    },
    {
     "name": "stderr",
     "output_type": "stream",
     "text": [
      "Training: 100%|██████████| 1292/1292 [01:59<00:00, 10.84step/s, Loss=0.5921]\n"
     ]
    },
    {
     "name": "stdout",
     "output_type": "stream",
     "text": [
      "Train Loss: 0.3791\n"
     ]
    },
    {
     "name": "stderr",
     "output_type": "stream",
     "text": [
      "Validation: 100%|██████████| 276/276 [00:10<00:00, 26.64step/s, Loss=0.3218]\n"
     ]
    },
    {
     "name": "stdout",
     "output_type": "stream",
     "text": [
      "Val   Loss: 0.4122\n",
      "==================================================\n",
      "Epoch 17/20\n"
     ]
    },
    {
     "name": "stderr",
     "output_type": "stream",
     "text": [
      "Training: 100%|██████████| 1292/1292 [01:55<00:00, 11.20step/s, Loss=0.5910]\n"
     ]
    },
    {
     "name": "stdout",
     "output_type": "stream",
     "text": [
      "Train Loss: 0.3782\n"
     ]
    },
    {
     "name": "stderr",
     "output_type": "stream",
     "text": [
      "Validation: 100%|██████████| 276/276 [00:10<00:00, 26.08step/s, Loss=0.3232]\n"
     ]
    },
    {
     "name": "stdout",
     "output_type": "stream",
     "text": [
      "Val   Loss: 0.4120\n",
      "==================================================\n",
      "Epoch 18/20\n"
     ]
    },
    {
     "name": "stderr",
     "output_type": "stream",
     "text": [
      "Training: 100%|██████████| 1292/1292 [01:58<00:00, 10.88step/s, Loss=0.5901]\n"
     ]
    },
    {
     "name": "stdout",
     "output_type": "stream",
     "text": [
      "Train Loss: 0.3775\n"
     ]
    },
    {
     "name": "stderr",
     "output_type": "stream",
     "text": [
      "Validation: 100%|██████████| 276/276 [00:10<00:00, 27.02step/s, Loss=0.3239]\n"
     ]
    },
    {
     "name": "stdout",
     "output_type": "stream",
     "text": [
      "Val   Loss: 0.4119\n",
      "==================================================\n",
      "Epoch 19/20\n"
     ]
    },
    {
     "name": "stderr",
     "output_type": "stream",
     "text": [
      "Training: 100%|██████████| 1292/1292 [01:55<00:00, 11.16step/s, Loss=0.5892]\n"
     ]
    },
    {
     "name": "stdout",
     "output_type": "stream",
     "text": [
      "Train Loss: 0.3769\n"
     ]
    },
    {
     "name": "stderr",
     "output_type": "stream",
     "text": [
      "Validation: 100%|██████████| 276/276 [00:11<00:00, 24.02step/s, Loss=0.3239]\n"
     ]
    },
    {
     "name": "stdout",
     "output_type": "stream",
     "text": [
      "Val   Loss: 0.4114\n",
      "==================================================\n",
      "Epoch 20/20\n"
     ]
    },
    {
     "name": "stderr",
     "output_type": "stream",
     "text": [
      "Training: 100%|██████████| 1292/1292 [01:57<00:00, 11.03step/s, Loss=0.5892]\n"
     ]
    },
    {
     "name": "stdout",
     "output_type": "stream",
     "text": [
      "Train Loss: 0.3763\n"
     ]
    },
    {
     "name": "stderr",
     "output_type": "stream",
     "text": [
      "Validation: 100%|██████████| 276/276 [00:10<00:00, 26.66step/s, Loss=0.3242]"
     ]
    },
    {
     "name": "stdout",
     "output_type": "stream",
     "text": [
      "Val   Loss: 0.4110\n",
      "==================================================\n",
      "Model saved to astgcn_model_3.pth\n"
     ]
    },
    {
     "name": "stderr",
     "output_type": "stream",
     "text": [
      "\n"
     ]
    }
   ],
   "source": [
    "num_epochs = 20\n",
    "for epoch in range(1, num_epochs + 1):\n",
    "    print(f\"Epoch {epoch}/{num_epochs}\")\n",
    "    \n",
    "    train_loss = train_one_epoch(model_wrapper, optimizer, criterion, train_indices, WINDOW_IN)\n",
    "    print(f\"Train Loss: {train_loss:.4f}\")\n",
    "    \n",
    "    val_loss = evaluate(model_wrapper, criterion, val_indices, WINDOW_IN)\n",
    "    print(f\"Val   Loss: {val_loss:.4f}\")\n",
    "    \n",
    "    scheduler.step(val_loss)\n",
    "    print(\"=\" * 50)\n",
    "\n",
    "# Save the model\n",
    "model_save_path = \"astgcn_model_3.pth\"\n",
    "torch.save(model_wrapper.state_dict(), model_save_path)\n",
    "print(f\"Model saved to {model_save_path}\")"
   ]
  },
  {
   "cell_type": "markdown",
   "metadata": {},
   "source": [
    "### Loss"
   ]
  },
  {
   "cell_type": "code",
   "execution_count": 10,
   "metadata": {},
   "outputs": [
    {
     "data": {
      "image/png": "[encoded data removed]",
      "text/plain": [
       "<Figure size 1000x600 with 1 Axes>"
      ]
     },
     "metadata": {},
     "output_type": "display_data"
    }
   ],
   "source": [
    "# Plot losses by iteration\n",
    "def moving_average(data, window_size=10):\n",
    "    return np.convolve(data, np.ones(window_size)/window_size, mode='valid')\n",
    "\n",
    "# Smooth the losses\n",
    "window_size = 500  # Adjust based on desired smoothing\n",
    "smoothed_train_losses = moving_average(train_iteration_losses, window_size)\n",
    "smoothed_val_losses = moving_average(val_iteration_losses, window_size)\n",
    "\n",
    "# Adjust x-axis for smoothed curves\n",
    "train_x = np.arange(len(smoothed_train_losses))\n",
    "val_x = np.arange(len(smoothed_val_losses))\n",
    "\n",
    "# Plot original and smoothed losses\n",
    "plt.figure(figsize=(10, 6))\n",
    "\n",
    "# Original loss curves\n",
    "# plt.plot(train_iteration_losses, label=\"Training Loss (Original)\", alpha=0.3, color=\"blue\")\n",
    "# plt.plot(val_iteration_losses, label=\"Validation Loss (Original)\", alpha=0.3, color=\"orange\")\n",
    "\n",
    "# Smoothed loss curves\n",
    "plt.plot(train_x, smoothed_train_losses, label=\"Training Loss (Smoothed)\", color=\"blue\")\n",
    "plt.plot(val_x, smoothed_val_losses, label=\"Validation Loss (Smoothed)\", color=\"orange\")\n",
    "\n",
    "# Formatting\n",
    "plt.title(\"Training and Validation Loss by Iteration (Smoothed)\")\n",
    "plt.xlabel(\"Iteration\")\n",
    "plt.ylabel(\"Loss\")\n",
    "plt.legend()\n",
    "plt.grid(True)\n",
    "plt.tight_layout()\n",
    "plt.show()"
   ]
  },
  {
   "cell_type": "markdown",
   "metadata": {},
   "source": [
    "### Evaluate"
   ]
  },
  {
   "cell_type": "code",
   "execution_count": 11,
   "metadata": {},
   "outputs": [
    {
     "name": "stdout",
     "output_type": "stream",
     "text": [
      "===== Test Results =====\n",
      "ASTGCN metrics:\n",
      "  MSE: 0.6395\n",
      "  RMSE: 0.7997\n",
      "  MAE: 0.3765\n",
      "  R2: 0.5050\n",
      "\n",
      "Naive metrics:\n",
      "  MSE: 0.8053\n",
      "  RMSE: 0.8974\n",
      "  MAE: 0.3244\n",
      "  R2: 0.2150\n",
      "\n"
     ]
    }
   ],
   "source": [
    "@torch.no_grad()\n",
    "def evaluate_test_set(model, test_indices, window_in=14, horizon=7):\n",
    "    model.eval()\n",
    "    astgcn_preds, naive_preds, gts = [], [], []\n",
    "    \n",
    "    for t in test_indices:\n",
    "        if t < window_in:\n",
    "            continue\n",
    "        \n",
    "        # Ground truth\n",
    "        data = dataset[t]\n",
    "        y_true = data.y  # => [N, 6, 7]\n",
    "        if isinstance(y_true, torch.Tensor):\n",
    "            y_true = y_true.cpu().numpy()\n",
    "        gts.append(y_true.reshape(-1))  # flatten\n",
    "        \n",
    "        # ASTGCN\n",
    "        x_stack = []\n",
    "        for past_t in range(t - window_in, t):\n",
    "            x_in = dataset[past_t].x\n",
    "            if isinstance(x_in, torch.Tensor):\n",
    "                x_in = x_in.cpu().numpy()\n",
    "            x_stack.append(x_in)\n",
    "        x_stack = np.stack(x_stack, axis=-1)  # => [N, 6, 14]\n",
    "        \n",
    "        x_torch = torch.from_numpy(x_stack).float().to(device).unsqueeze(0)\n",
    "        e_idx = data.edge_index.to(device)\n",
    "        \n",
    "        y_pred_astgcn = model(x_torch, e_idx).squeeze(0).cpu().numpy()  # => [N, 6, 7]\n",
    "        astgcn_preds.append(y_pred_astgcn.reshape(-1))\n",
    "        \n",
    "        # Naive => \"Use yesterday's snapshot repeated for 7 days\"\n",
    "        if t-1 >= 0:\n",
    "            naive_day = dataset[t-1].x  # => [N, 6]\n",
    "            if isinstance(naive_day, torch.Tensor):\n",
    "                naive_day = naive_day.cpu().numpy()\n",
    "            # expand to => [N, 6, 7]\n",
    "            naive_7day = np.repeat(naive_day[..., None], horizon, axis=-1)\n",
    "            naive_preds.append(naive_7day.reshape(-1))\n",
    "        else:\n",
    "            # skip if no previous day\n",
    "            # or set some default approach\n",
    "            continue\n",
    "\n",
    "    astgcn_preds = np.concatenate(astgcn_preds, axis=0)\n",
    "    naive_preds  = np.concatenate(naive_preds, axis=0)\n",
    "    gts          = np.concatenate(gts, axis=0)\n",
    "    \n",
    "    # Compute metrics\n",
    "    def metrics_dict(yhat, y):\n",
    "        mse  = root_mean_squared_error(y, yhat)\n",
    "        rmse = np.sqrt(mse)\n",
    "        mae  = mean_absolute_error(y, yhat)\n",
    "        r2   = r2_score(y, yhat)\n",
    "        return {\"MSE\":mse, \"RMSE\":rmse, \"MAE\":mae, \"R2\":r2}\n",
    "    \n",
    "    results = {\n",
    "        \"ASTGCN\": metrics_dict(astgcn_preds, gts),\n",
    "        \"Naive\":  metrics_dict(naive_preds,  gts),\n",
    "    }\n",
    "    return results\n",
    "\n",
    "test_results = evaluate_test_set(model_wrapper, test_indices, window_in=WINDOW_IN, horizon=HORIZON)\n",
    "print(\"===== Test Results =====\")\n",
    "for model_name, metrics in test_results.items():\n",
    "    print(f\"{model_name} metrics:\")\n",
    "    for k, v in metrics.items():\n",
    "        print(f\"  {k}: {v:.4f}\")\n",
    "    print(\"\")\n"
   ]
  },
  {
   "cell_type": "code",
   "execution_count": 19,
   "metadata": {},
   "outputs": [
    {
     "data": {
      "image/png": "[encoded data removed]",
      "text/plain": [
       "<Figure size 800x300 with 1 Axes>"
      ]
     },
     "metadata": {},
     "output_type": "display_data"
    },
    {
     "data": {
      "image/png": "[encoded data removed]",
      "text/plain": [
       "<Figure size 800x300 with 1 Axes>"
      ]
     },
     "metadata": {},
     "output_type": "display_data"
    },
    {
     "data": {
      "image/png": "[encoded data removed]",
      "text/plain": [
       "<Figure size 800x300 with 1 Axes>"
      ]
     },
     "metadata": {},
     "output_type": "display_data"
    }
   ],
   "source": [
    "def inverse_transform_3D(scaled_3D, scaler):\n",
    "    \"\"\"\n",
    "    scaled_3D: shape [N, 6, H]\n",
    "    We'll assume we only want to inverse-transform the first 5 features,\n",
    "    leaving the day_of_year fraction alone.\n",
    "    \"\"\"\n",
    "    N, F, H = scaled_3D.shape\n",
    "    \n",
    "    # Separate weather vs. day_of_year\n",
    "    scaled_weather = scaled_3D[:, :3, :]  # => [N, 5, H]\n",
    "    day_of_year    = scaled_3D[:, 3:, :]  # => [N, 1, H]\n",
    "    \n",
    "    # Flatten weather => [N*H, 5]\n",
    "    reshaped = scaled_weather.transpose(0,2,1).reshape(-1, 3)\n",
    "    inv = scaler.inverse_transform(reshaped)  # => [N*H, 5]\n",
    "    inv = inv.reshape(N, H, 3).transpose(0,2,1)  # => [N, 5, H]\n",
    "    \n",
    "    # Re-combine with day_of_year\n",
    "    out = np.concatenate([inv, day_of_year], axis=1)  # => [N, 6, H]\n",
    "    return out\n",
    "\n",
    "def plot_aggregated_error_distributions(test_indices, model, scaler, window_in=14, horizon=7,\n",
    "    feat_names = ['PRCP', 'TMAX', 'TMIN']):\n",
    "    \"\"\"\n",
    "    Aggregate errors across all test time steps and plot the error distributions\n",
    "    for ASTGCN and Naïve models for each feature.\n",
    "    \"\"\"\n",
    "    astgcn_errors_all = []\n",
    "    naive_errors_all = []\n",
    "    \n",
    "    for t in test_indices:\n",
    "        if t < window_in:\n",
    "            continue\n",
    "        \n",
    "        # Ground truth\n",
    "        data = dataset[t]\n",
    "        y_true = data.y  # Ground truth => [N, 6, 7]\n",
    "        if isinstance(y_true, torch.Tensor):\n",
    "            y_true = y_true.cpu().numpy()\n",
    "\n",
    "        # ASTGCN forecast\n",
    "        x_stack = []\n",
    "        for past_t in range(t - window_in, t):\n",
    "            x_in = dataset[past_t].x\n",
    "            if isinstance(x_in, torch.Tensor):\n",
    "                x_in = x_in.cpu().numpy()\n",
    "            x_stack.append(x_in)\n",
    "        x_stack = np.stack(x_stack, axis=-1)  # => [N, 6, 14]\n",
    "\n",
    "        x_torch = torch.from_numpy(x_stack).float().to(device).unsqueeze(0)  # => [1, N, 6, 14]\n",
    "        e_idx = data.edge_index.to(device)\n",
    "        with torch.no_grad():\n",
    "            y_pred_astgcn = model(x_torch, e_idx).squeeze(0).cpu().numpy()  # => [N, 6, 7]\n",
    "\n",
    "        # Naïve forecast\n",
    "        naive_day = dataset[t - 1].x  # => [N, 6]\n",
    "        if isinstance(naive_day, torch.Tensor):\n",
    "            naive_day = naive_day.cpu().numpy()\n",
    "        y_pred_naive = np.repeat(naive_day[..., None], horizon, axis=-1)  # => [N, 6, 7]\n",
    "\n",
    "        # Inverse-transform\n",
    "        y_true_inv       = inverse_transform_3D(y_true, scaler)       # [N, 6, 7]\n",
    "        y_astgcn_inv     = inverse_transform_3D(y_pred_astgcn, scaler)  # [N, 6, 7]\n",
    "        y_naive_inv      = inverse_transform_3D(y_pred_naive, scaler)   # [N, 6, 7]\n",
    "\n",
    "        # Compute errors\n",
    "        astgcn_errors = y_astgcn_inv - y_true_inv  # [N, 6, 7]\n",
    "        naive_errors = y_naive_inv - y_true_inv    # [N, 6, 7]\n",
    "\n",
    "        # Reshape errors to [N * H, F] for aggregation\n",
    "        astgcn_errors_flat = astgcn_errors.transpose(0, 2, 1).reshape(-1, 4)  # [N*H, 6]\n",
    "        naive_errors_flat = naive_errors.transpose(0, 2, 1).reshape(-1, 4)    # [N*H, 6]\n",
    "\n",
    "        # Accumulate errors across all test steps\n",
    "        astgcn_errors_all.append(astgcn_errors_flat)\n",
    "        naive_errors_all.append(naive_errors_flat)\n",
    "\n",
    "    # Concatenate all errors across test steps\n",
    "    astgcn_errors_all = np.concatenate(astgcn_errors_all, axis=0)  # [total_samples, 6]\n",
    "    naive_errors_all = np.concatenate(naive_errors_all, axis=0)    # [total_samples, 6]\n",
    "\n",
    "    # Plot error distributions for each feature\n",
    "    # feat_names = ['PRCP', 'SNOW', 'SNWD', 'TMAX', 'TMIN']\n",
    "    for f_idx, feat in enumerate(feat_names):\n",
    "        plt.figure(figsize=(8, 3))\n",
    "        plt.hist(\n",
    "            astgcn_errors_all[:, f_idx],\n",
    "            bins=30,\n",
    "            alpha=0.6,\n",
    "            label='ASTGCN Errors',\n",
    "            color='blue',\n",
    "            density=True,\n",
    "        )\n",
    "        plt.hist(\n",
    "            naive_errors_all[:, f_idx],\n",
    "            bins=30,\n",
    "            alpha=0.6,\n",
    "            label='Naive Errors',\n",
    "            color='orange',\n",
    "            density=True,\n",
    "        )\n",
    "        plt.axvline(0, color='black', linestyle='--', label='Zero Error')\n",
    "        plt.title(f\"Aggregated Error Distribution: {feat}\")\n",
    "        plt.xlabel(\"Error (Predicted - True)\")\n",
    "        plt.ylabel(\"Density\")\n",
    "        plt.legend()\n",
    "        plt.tight_layout()\n",
    "        plt.show()\n",
    "\n",
    "plot_aggregated_error_distributions(test_indices, model_wrapper, scaler, window_in=WINDOW_IN, horizon=HORIZON)"
   ]
  }
 ],
 "metadata": {
  "kernelspec": {
   "display_name": "venv_3_11_8_graph_1",
   "language": "python",
   "name": "python3"
  },
  "language_info": {
   "codemirror_mode": {
    "name": "ipython",
    "version": 3
   },
   "file_extension": ".py",
   "mimetype": "text/x-python",
   "name": "python",
   "nbconvert_exporter": "python",
   "pygments_lexer": "ipython3",
   "version": "3.11.8"
  }
 },
 "nbformat": 4,
 "nbformat_minor": 2
}
